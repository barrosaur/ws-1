{
 "cells": [
  {
   "cell_type": "markdown",
   "id": "34d28bf9",
   "metadata": {},
   "source": [
    "### Test for scanning tables"
   ]
  },
  {
   "cell_type": "code",
   "execution_count": null,
   "id": "30c7f94e",
   "metadata": {},
   "outputs": [
    {
     "name": "stdout",
     "output_type": "stream",
     "text": [
      "0\n"
     ]
    }
   ],
   "source": [
    "from bs4 import BeautifulSoup\n",
    "\n",
    "with open('index.html', 'r') as file:\n",
    "  html_file = file.read()\n",
    "\n",
    "  soup = BeautifulSoup(html_file, 'html.parser')\n",
    "\n",
    "  table = soup.find('table')\n",
    "  headings = soup.find_all('th')\n",
    "\n",
    "  for i, heading in enumerate(headings):\n",
    "    if heading.text.strip() == \"Heading 4\":\n",
    "      idx = i\n",
    "\n",
    "      print(idx)"
   ]
  }
 ],
 "metadata": {
  "kernelspec": {
   "display_name": "Python 3",
   "language": "python",
   "name": "python3"
  },
  "language_info": {
   "codemirror_mode": {
    "name": "ipython",
    "version": 3
   },
   "file_extension": ".py",
   "mimetype": "text/x-python",
   "name": "python",
   "nbconvert_exporter": "python",
   "pygments_lexer": "ipython3",
   "version": "3.13.1"
  }
 },
 "nbformat": 4,
 "nbformat_minor": 5
}
